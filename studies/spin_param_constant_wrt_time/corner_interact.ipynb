{
 "cells": [
  {
   "cell_type": "code",
   "execution_count": 2,
   "metadata": {
    "pycharm": {
     "name": "#%%\n"
    }
   },
   "outputs": [
    {
     "data": {
      "application/vnd.jupyter.widget-view+json": {
       "model_id": "935812885c1046a7a9f08609e4af3f9f",
       "version_major": 2,
       "version_minor": 0
      },
      "text/plain": [
       "interactive(children=(Checkbox(value=False, description='show_aligned'), Checkbox(value=False, description='sh…"
      ]
     },
     "metadata": {},
     "output_type": "display_data"
    }
   ],
   "source": [
    "from __future__ import print_function\n",
    "from ipywidgets import interactive, FloatSlider, Layout, IntSlider\n",
    "import numpy as np\n",
    "import ipywidgets as widgets\n",
    "import matplotlib.pyplot as plt, random\n",
    "from make_interaction_gif import plot_one_corner\n",
    "import warnings\n",
    "warnings.filterwarnings(\"ignore\")\n",
    "\n",
    "\n",
    "slider_kwargs = dict(style =  {'description_width': '100px'},items_layout = Layout(height='auto', width='auto'), continuous_update=False)\n",
    "interactive_plot = interactive(\n",
    "    plot_one_corner,\n",
    "    show_aligned=False, show_isotropic=False, show_agn=True,\n",
    "    sig1=FloatSlider(description=r'Truncnorm $\\sigma_{1}$:', value=1,min=0.1, max=5.0, step=0.1, **slider_kwargs),\n",
    "    sig12=FloatSlider(description=r'Truncnorm $\\sigma{12}$:', value=1,min=0.1, max=5.0, step=0.1, **slider_kwargs),\n",
    "    n=IntSlider(description=\"Num Samples\", value=10000,min=1000, max=100000, step=1000, **slider_kwargs)\n",
    ")\n",
    "output = interactive_plot.children[-1]\n",
    "output.layout.height = '1000px'\n",
    "output.layout.align_content\n",
    "interactive_plot"
   ]
  },
  {
   "cell_type": "code",
   "execution_count": null,
   "metadata": {},
   "outputs": [],
   "source": []
  }
 ],
 "metadata": {
  "kernelspec": {
   "display_name": "Python 3",
   "language": "python",
   "name": "python3"
  },
  "language_info": {
   "codemirror_mode": {
    "name": "ipython",
    "version": 3
   },
   "file_extension": ".py",
   "mimetype": "text/x-python",
   "name": "python",
   "nbconvert_exporter": "python",
   "pygments_lexer": "ipython3",
   "version": "3.7.6"
  }
 },
 "nbformat": 4,
 "nbformat_minor": 1
}
