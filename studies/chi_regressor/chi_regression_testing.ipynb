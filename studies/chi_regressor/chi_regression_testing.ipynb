{
 "cells": [
  {
   "cell_type": "markdown",
   "metadata": {},
   "source": [
    "# Chi Regressor Testing"
   ]
  },
  {
   "cell_type": "markdown",
   "metadata": {},
   "source": [
    "First we will load some modules, logging settings and set some flags for data generation and training."
   ]
  },
  {
   "cell_type": "code",
   "execution_count": null,
   "metadata": {},
   "outputs": [],
   "source": [
    "from __future__ import print_function\n",
    "\n",
    "import logging\n",
    "import warnings\n",
    "\n",
    "from agn_utils.agn_logger import logger\n",
    "from agn_utils.chi_regressor import (\n",
    "    chi_regressor_trainer,\n",
    "    generate_chi_regression_training_data, load_model, prediction_for_different_sigma\n",
    ")\n",
    "from ipywidgets import FloatSlider, IntSlider, Layout, interactive\n",
    "logger.setLevel(logging.ERROR)\n",
    "warnings.filterwarnings(\"ignore\")\n",
    "%matplotlib inline\n",
    "\n",
    "\n",
    "MODEL_FNAME = \"chi_regressor.model\"\n",
    "TRAINING_DATA_FNAME = \"training_data.h5\"\n",
    "\n",
    "GENERATE_DATA = False\n",
    "TRAIN_MODEL = False"
   ]
  },
  {
   "cell_type": "markdown",
   "metadata": {},
   "source": [
    "Now we will excute the code to generate data/train/load the trained model."
   ]
  },
  {
   "cell_type": "code",
   "execution_count": null,
   "metadata": {
    "pycharm": {
     "name": "#%%\n"
    }
   },
   "outputs": [],
   "source": [
    "if GENERATE_DATA:\n",
    "    print(\"Generating new training data.\")\n",
    "    generate_chi_regression_training_data(TRAINING_DATA_FNAME)\n",
    "else:\n",
    "    print(\"Using cached training data.\")"
   ]
  },
  {
   "cell_type": "code",
   "execution_count": null,
   "metadata": {
    "pycharm": {
     "name": "#%%\n"
    }
   },
   "outputs": [],
   "source": [
    "if TRAIN_MODEL:\n",
    "    print(\"Training new regression model.\")\n",
    "    chi_regressor_trainer(MODEL_FNAME)\n",
    "else:\n",
    "    print(\"Using trained regression model.\")"
   ]
  },
  {
   "cell_type": "code",
   "execution_count": null,
   "metadata": {
    "pycharm": {
     "name": "#%%\n"
    }
   },
   "outputs": [],
   "source": [
    "print(\"Loading regression model\")\n",
    "regressor = load_model(MODEL_FNAME)"
   ]
  },
  {
   "cell_type": "markdown",
   "metadata": {},
   "source": [
    "Finally, we can plot the regressor's predicted output and compare it with the real output."
   ]
  },
  {
   "cell_type": "code",
   "execution_count": null,
   "metadata": {},
   "outputs": [],
   "source": [
    "def interactive_func(sigma_1, sigma_12, n):\n",
    "    prediction_for_different_sigma(sigma_1, sigma_12, n, regressor=regressor)\n",
    "\n",
    "\n",
    "slider_kwargs = dict(style =  {'description_width': '100px'},items_layout = Layout(height='auto', width='auto'), continuous_update=False)\n",
    "interactive_plot = interactive(\n",
    "    interactive_func,\n",
    "    sigma_1=FloatSlider(description=r'Truncnorm $\\sigma_{1}$:', value=1,min=0.1, max=4.0, step=0.1, **slider_kwargs),\n",
    "    sigma_12=FloatSlider(description=r'Truncnorm $\\sigma{12}$:', value=1,min=0.1, max=4.0, step=0.1, **slider_kwargs),\n",
    "    n=IntSlider(description=\"Num Samples\", value=5000,min=1000, max=100000, step=1000, **slider_kwargs),\n",
    ")\n",
    "output = interactive_plot.children[-1]\n",
    "output.layout.height = '1100px'\n",
    "output.layout.align_content\n",
    "interactive_plot\n"
   ]
  }
 ],
 "metadata": {
  "jupytext": {
   "formats": "ipynb,py:light",
   "text_representation": {
    "extension": ".py",
    "format_name": "light",
    "format_version": "1.5",
    "jupytext_version": "1.6.0"
   }
  },
  "kernelspec": {
   "display_name": "Python 3",
   "language": "python",
   "name": "python3"
  },
  "language_info": {
   "codemirror_mode": {
    "name": "ipython",
    "version": 3
   },
   "file_extension": ".py",
   "mimetype": "text/x-python",
   "name": "python",
   "nbconvert_exporter": "python",
   "pygments_lexer": "ipython3",
   "version": "3.7.6"
  }
 },
 "nbformat": 4,
 "nbformat_minor": 4
}
