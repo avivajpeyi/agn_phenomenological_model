{
 "cells": [
  {
   "cell_type": "markdown",
   "metadata": {},
   "source": [
    "# Chi Regressor Testing"
   ]
  },
  {
   "cell_type": "markdown",
   "metadata": {},
   "source": [
    "First we will load some modules, logging settings and set some flags for data generation and training."
   ]
  },
  {
   "cell_type": "code",
   "execution_count": 4,
   "metadata": {},
   "outputs": [],
   "source": [
    "from __future__ import print_function\n",
    "\n",
    "import logging\n",
    "import warnings\n",
    "\n",
    "from agn_utils.agn_logger import logger\n",
    "from agn_utils.chi_regressor import (\n",
    "    chi_regressor_trainer,\n",
    "    generate_chi_regression_training_data, load_model, prediction_for_different_sigma\n",
    ")\n",
    "from ipywidgets import FloatSlider, IntSlider, Layout, interactive\n",
    "logger.setLevel(logging.ERROR)\n",
    "warnings.filterwarnings(\"ignore\")\n",
    "%matplotlib inline\n",
    "\n",
    "\n",
    "MODEL_FNAME = \"chi_regressor\"\n",
    "TRAINING_DATA_FNAME = \"training_data.h5\"\n",
    "MODEL_TYPE = \"Tf\"\n",
    "\n",
    "GENERATE_DATA = False\n",
    "TRAIN_MODEL = True"
   ]
  },
  {
   "cell_type": "markdown",
   "metadata": {},
   "source": [
    "Now we will excute the code to generate data/train/load the trained model."
   ]
  },
  {
   "cell_type": "code",
   "execution_count": 5,
   "metadata": {
    "pycharm": {
     "name": "#%%\n"
    }
   },
   "outputs": [
    {
     "name": "stdout",
     "output_type": "stream",
     "text": [
      "Using cached training data.\n"
     ]
    }
   ],
   "source": [
    "if GENERATE_DATA:\n",
    "    print(\"Generating new training data.\")\n",
    "    generate_chi_regression_training_data(TRAINING_DATA_FNAME)\n",
    "else:\n",
    "    print(\"Using cached training data.\")"
   ]
  },
  {
   "cell_type": "code",
   "execution_count": 6,
   "metadata": {
    "pycharm": {
     "name": "#%%\n"
    }
   },
   "outputs": [
    {
     "name": "stderr",
     "output_type": "stream",
     "text": [
      "INFO: pycondor - agn_utils.chi_regressor : Loading training samples.\n"
     ]
    },
    {
     "name": "stdout",
     "output_type": "stream",
     "text": [
      "Training new regression model.\n"
     ]
    },
    {
     "name": "stderr",
     "output_type": "stream",
     "text": [
      "INFO: pycondor - agn_utils.chi_regressor : Loaded 10000/12550000 training samples.\n",
      "DEBUG: pycondor - agn_utils.chi_regressor :                      min      mean         max\n",
      "sigma_1         0.050000  2.010804    4.000000\n",
      "sigma_12        0.050000  2.020558    4.000000\n",
      "chi_p           0.002872  0.179215    0.682331\n",
      "chi_eff        -0.391361  0.030239    0.469027\n",
      "cos_theta_1    -0.999585  0.208343    0.999698\n",
      "cos_thete_12   -0.999652  0.210104    0.999899\n",
      "mass_ratio      0.223848  0.719272    0.999961\n",
      "p_mass_ratio    0.039250  1.572788    2.347162\n",
      "p_cos_theta_1   0.006897  0.991753   15.957297\n",
      "p_cos_theta_12  0.004294  0.972531   15.957575\n",
      "p               0.001499  1.036443  217.469601\n",
      "INFO: pycondor - agn_utils.chi_regressor : Tf Regressor Training initiated.\n",
      "WARNING: pycondor - tensorflow : From /Users/avaj0001/anaconda3/envs/phase-marginalisation-test/lib/python3.7/site-packages/tensorflow/python/training/saver.py:1076: get_checkpoint_mtimes (from tensorflow.python.training.checkpoint_management) is deprecated and will be removed in a future version.\n",
      "Instructions for updating:\n",
      "Use standard file utilities to get mtimes.\n",
      "WARNING: pycondor - tensorflow : Issue encountered when serializing resources.\n",
      "Type is unsupported, or the types of the items don't match field type in CollectionDef. Note this is a warning and probably safe to ignore.\n",
      "'_Resource' object has no attribute 'name'\n",
      "WARNING: pycondor - tensorflow : Issue encountered when serializing resources.\n",
      "Type is unsupported, or the types of the items don't match field type in CollectionDef. Note this is a warning and probably safe to ignore.\n",
      "'_Resource' object has no attribute 'name'\n",
      "WARNING: pycondor - tensorflow : Issue encountered when serializing resources.\n",
      "Type is unsupported, or the types of the items don't match field type in CollectionDef. Note this is a warning and probably safe to ignore.\n",
      "'_Resource' object has no attribute 'name'\n",
      "WARNING: pycondor - tensorflow : From /Users/avaj0001/anaconda3/envs/phase-marginalisation-test/lib/python3.7/site-packages/tensorflow/python/saved_model/signature_def_utils_impl.py:95: build_tensor_info (from tensorflow.python.saved_model.utils_impl) is deprecated and will be removed in a future version.\n",
      "Instructions for updating:\n",
      "This function will only be available through the v1 compatibility library as tf.compat.v1.saved_model.utils.build_tensor_info or tf.compat.v1.saved_model.build_tensor_info.\n",
      "WARNING: pycondor - tensorflow : Issue encountered when serializing resources.\n",
      "Type is unsupported, or the types of the items don't match field type in CollectionDef. Note this is a warning and probably safe to ignore.\n",
      "'_Resource' object has no attribute 'name'\n",
      "INFO: pycondor - agn_utils.chi_regressor : Training complete (model saved at chi_regressor).\n"
     ]
    },
    {
     "name": "stdout",
     "output_type": "stream",
     "text": [
      "Using trained regression model.\n"
     ]
    }
   ],
   "source": [
    "if TRAIN_MODEL:\n",
    "    print(\"Training new regression model.\")\n",
    "    chi_regressor_trainer(model_fname=MODEL_FNAME, training_fname=TRAINING_DATA_FNAME, model_type=MODEL_TYPE, n_samples=10000)\n",
    "    print(\"Using trained regression model.\")"
   ]
  },
  {
   "cell_type": "code",
   "execution_count": 8,
   "metadata": {
    "pycharm": {
     "name": "#%%\n"
    }
   },
   "outputs": [
    {
     "name": "stderr",
     "output_type": "stream",
     "text": [
      "INFO: pycondor - agn_utils.chi_regressor : Tf Regressor model loaded from chi_regressor.\n"
     ]
    },
    {
     "name": "stdout",
     "output_type": "stream",
     "text": [
      "Loading regression model\n"
     ]
    }
   ],
   "source": [
    "print(\"Loading regression model\")\n",
    "regressor = load_model(MODEL_FNAME, model_type=MODEL_TYPE)"
   ]
  },
  {
   "cell_type": "markdown",
   "metadata": {},
   "source": [
    "Finally, we can plot_posterior_predictive_check the regressor's predicted output and compare it with the real output."
   ]
  },
  {
   "cell_type": "code",
   "execution_count": 9,
   "metadata": {},
   "outputs": [
    {
     "data": {
      "application/vnd.jupyter.widget-view+json": {
       "model_id": "58b972af94934158b5ab0f9faec07ce2",
       "version_major": 2,
       "version_minor": 0
      },
      "text/plain": [
       "interactive(children=(FloatSlider(value=1.0, continuous_update=False, description='Truncnorm $\\\\sigma_{1}$:', …"
      ]
     },
     "metadata": {},
     "output_type": "display_data"
    }
   ],
   "source": [
    "def interactive_func(sigma_1, sigma_12, n):\n",
    "    prediction_for_different_sigma(sigma_1, sigma_12, n, regressor=regressor)\n",
    "\n",
    "\n",
    "slider_kwargs = dict(style =  {'description_width': '100px'},items_layout = Layout(height='auto', width='auto'), continuous_update=False)\n",
    "interactive_plot = interactive(\n",
    "    interactive_func,\n",
    "    sigma_1=FloatSlider(description=r'Truncnorm $\\sigma_{1}$:', value=1,min=0.1, max=4.0, step=0.1, **slider_kwargs),\n",
    "    sigma_12=FloatSlider(description=r'Truncnorm $\\sigma{12}$:', value=1,min=0.1, max=4.0, step=0.1, **slider_kwargs),\n",
    "    n=IntSlider(description=\"Num Samples\", value=5000,min=1000, max=100000, step=1000, **slider_kwargs),\n",
    ")\n",
    "output = interactive_plot.children[-1]\n",
    "output.layout.height = '1100px'\n",
    "output.layout.align_content\n",
    "interactive_plot\n"
   ]
  },
  {
   "cell_type": "code",
   "execution_count": null,
   "metadata": {},
   "outputs": [],
   "source": []
  }
 ],
 "metadata": {
  "jupytext": {
   "formats": "ipynb,py:light"
  },
  "kernelspec": {
   "display_name": "Python 3",
   "language": "python",
   "name": "python3"
  },
  "language_info": {
   "codemirror_mode": {
    "name": "ipython",
    "version": 3
   },
   "file_extension": ".py",
   "mimetype": "text/x-python",
   "name": "python",
   "nbconvert_exporter": "python",
   "pygments_lexer": "ipython3",
   "version": "3.7.6"
  }
 },
 "nbformat": 4,
 "nbformat_minor": 4
}
