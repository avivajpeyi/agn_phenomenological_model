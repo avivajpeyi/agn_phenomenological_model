{
 "cells": [
  {
   "cell_type": "code",
   "execution_count": 63,
   "metadata": {
    "Collapsed": "false"
   },
   "outputs": [],
   "source": [
    "import os\n",
    "import sys\n",
    "import numpy as np\n",
    "import deepdish as dd\n",
    "import pandas as pd\n",
    "from argparse import Namespace"
   ]
  },
  {
   "cell_type": "code",
   "execution_count": 7,
   "metadata": {
    "Collapsed": "false"
   },
   "outputs": [
    {
     "name": "stderr",
     "output_type": "stream",
     "text": [
      "16:53 bilby INFO    : Loaded Overall from /home/shanika.galaudage/O3/population/GWTC-1_sample_release/GW150914_GWTC-1.hdf5.\n",
      "16:53 bilby INFO    : Loaded Overall from /home/shanika.galaudage/O3/population/GWTC-1_sample_release/GW151012_GWTC-1.hdf5.\n",
      "16:53 bilby INFO    : Loaded Overall from /home/shanika.galaudage/O3/population/GWTC-1_sample_release/GW151226_GWTC-1.hdf5.\n",
      "16:53 bilby INFO    : Loaded Overall from /home/shanika.galaudage/O3/population/GWTC-1_sample_release/GW170104_GWTC-1.hdf5.\n",
      "16:53 bilby INFO    : Loaded Overall from /home/shanika.galaudage/O3/population/GWTC-1_sample_release/GW170608_GWTC-1.hdf5.\n",
      "16:53 bilby INFO    : Loaded Overall from /home/shanika.galaudage/O3/population/GWTC-1_sample_release/GW170729_GWTC-1.hdf5.\n",
      "16:53 bilby INFO    : Loaded Overall from /home/shanika.galaudage/O3/population/GWTC-1_sample_release/GW170809_GWTC-1.hdf5.\n",
      "16:53 bilby INFO    : Loaded Overall from /home/shanika.galaudage/O3/population/GWTC-1_sample_release/GW170814_GWTC-1.hdf5.\n",
      "16:53 bilby INFO    : Failed to load /home/shanika.galaudage/O3/population/GWTC-1_sample_release/GW170817_GWTC-1.hdf5 with KeyError: \"Unable to open object (object 'Overall_posterior' doesn't exist)\"\n",
      "16:53 bilby INFO    : Loaded Overall from /home/shanika.galaudage/O3/population/GWTC-1_sample_release/GW170818_GWTC-1.hdf5.\n",
      "16:53 bilby INFO    : Loaded Overall from /home/shanika.galaudage/O3/population/GWTC-1_sample_release/GW170823_GWTC-1.hdf5.\n"
     ]
    },
    {
     "ename": "NameError",
     "evalue": "name 'postertior' is not defined",
     "output_type": "error",
     "traceback": [
      "\u001b[0;31m---------------------------------------------------------------------------\u001b[0m",
      "\u001b[0;31mNameError\u001b[0m                                 Traceback (most recent call last)",
      "\u001b[0;32m<ipython-input-7-59a28fa95a58>\u001b[0m in \u001b[0;36m<module>\u001b[0;34m()\u001b[0m\n\u001b[1;32m      6\u001b[0m \u001b[0;34m\u001b[0m\u001b[0m\n\u001b[1;32m      7\u001b[0m \u001b[0mposteriors\u001b[0m \u001b[0;34m=\u001b[0m \u001b[0mload_gwtc_1_events\u001b[0m\u001b[0;34m(\u001b[0m\u001b[0margs\u001b[0m\u001b[0;34m)\u001b[0m\u001b[0;34m\u001b[0m\u001b[0;34m\u001b[0m\u001b[0m\n\u001b[0;32m----> 8\u001b[0;31m \u001b[0mpostertior\u001b[0m\u001b[0;34m[\u001b[0m\u001b[0;36m0\u001b[0m\u001b[0;34m]\u001b[0m\u001b[0;34m\u001b[0m\u001b[0;34m\u001b[0m\u001b[0m\n\u001b[0m",
      "\u001b[0;31mNameError\u001b[0m: name 'postertior' is not defined"
     ]
    }
   ],
   "source": [
    "from gwpopulation_pipe.data_collection import load_gwtc_1_events\n",
    "\n",
    "\n",
    "\n",
    "args = Namespace(gwtc1_samples_regex='/home/shanika.galaudage/O3/population/GWTC-1_sample_release/GW*.hdf5')\n",
    "\n",
    "posteriors = load_gwtc_1_events(args)\n"
   ]
  },
  {
   "cell_type": "code",
   "execution_count": 9,
   "metadata": {
    "Collapsed": "false"
   },
   "outputs": [
    {
     "data": {
      "text/html": [
       "<div>\n",
       "<style scoped>\n",
       "    .dataframe tbody tr th:only-of-type {\n",
       "        vertical-align: middle;\n",
       "    }\n",
       "\n",
       "    .dataframe tbody tr th {\n",
       "        vertical-align: top;\n",
       "    }\n",
       "\n",
       "    .dataframe thead th {\n",
       "        text-align: right;\n",
       "    }\n",
       "</style>\n",
       "<table border=\"1\" class=\"dataframe\">\n",
       "  <thead>\n",
       "    <tr style=\"text-align: right;\">\n",
       "      <th></th>\n",
       "      <th>redshift</th>\n",
       "      <th>mass_1</th>\n",
       "      <th>a_1</th>\n",
       "      <th>cos_tilt_1</th>\n",
       "      <th>mass_2</th>\n",
       "      <th>a_2</th>\n",
       "      <th>cos_tilt_2</th>\n",
       "      <th>mass_ratio</th>\n",
       "    </tr>\n",
       "  </thead>\n",
       "  <tbody>\n",
       "    <tr>\n",
       "      <th>0</th>\n",
       "      <td>0.108213</td>\n",
       "      <td>35.225515</td>\n",
       "      <td>0.417147</td>\n",
       "      <td>-0.280624</td>\n",
       "      <td>33.427289</td>\n",
       "      <td>0.867740</td>\n",
       "      <td>0.403853</td>\n",
       "      <td>0.948951</td>\n",
       "    </tr>\n",
       "    <tr>\n",
       "      <th>1</th>\n",
       "      <td>0.085328</td>\n",
       "      <td>31.898266</td>\n",
       "      <td>0.125709</td>\n",
       "      <td>-0.757349</td>\n",
       "      <td>31.496839</td>\n",
       "      <td>0.260679</td>\n",
       "      <td>-0.312285</td>\n",
       "      <td>0.987415</td>\n",
       "    </tr>\n",
       "    <tr>\n",
       "      <th>2</th>\n",
       "      <td>0.078865</td>\n",
       "      <td>35.124252</td>\n",
       "      <td>0.581047</td>\n",
       "      <td>0.649781</td>\n",
       "      <td>31.487262</td>\n",
       "      <td>0.926893</td>\n",
       "      <td>-0.510843</td>\n",
       "      <td>0.896454</td>\n",
       "    </tr>\n",
       "    <tr>\n",
       "      <th>3</th>\n",
       "      <td>0.082373</td>\n",
       "      <td>33.641806</td>\n",
       "      <td>0.235808</td>\n",
       "      <td>0.116578</td>\n",
       "      <td>32.968738</td>\n",
       "      <td>0.094391</td>\n",
       "      <td>-0.720505</td>\n",
       "      <td>0.979993</td>\n",
       "    </tr>\n",
       "    <tr>\n",
       "      <th>4</th>\n",
       "      <td>0.073895</td>\n",
       "      <td>36.760824</td>\n",
       "      <td>0.511521</td>\n",
       "      <td>-0.438237</td>\n",
       "      <td>29.467517</td>\n",
       "      <td>0.868009</td>\n",
       "      <td>0.269333</td>\n",
       "      <td>0.801601</td>\n",
       "    </tr>\n",
       "    <tr>\n",
       "      <th>...</th>\n",
       "      <td>...</td>\n",
       "      <td>...</td>\n",
       "      <td>...</td>\n",
       "      <td>...</td>\n",
       "      <td>...</td>\n",
       "      <td>...</td>\n",
       "      <td>...</td>\n",
       "      <td>...</td>\n",
       "    </tr>\n",
       "    <tr>\n",
       "      <th>8345</th>\n",
       "      <td>0.066089</td>\n",
       "      <td>35.233424</td>\n",
       "      <td>0.484003</td>\n",
       "      <td>0.194507</td>\n",
       "      <td>31.288003</td>\n",
       "      <td>0.627191</td>\n",
       "      <td>-0.408345</td>\n",
       "      <td>0.888020</td>\n",
       "    </tr>\n",
       "    <tr>\n",
       "      <th>8346</th>\n",
       "      <td>0.097492</td>\n",
       "      <td>34.464289</td>\n",
       "      <td>0.589654</td>\n",
       "      <td>-0.737792</td>\n",
       "      <td>33.416243</td>\n",
       "      <td>0.650758</td>\n",
       "      <td>0.875384</td>\n",
       "      <td>0.969590</td>\n",
       "    </tr>\n",
       "    <tr>\n",
       "      <th>8347</th>\n",
       "      <td>0.094773</td>\n",
       "      <td>34.768191</td>\n",
       "      <td>0.708407</td>\n",
       "      <td>0.852085</td>\n",
       "      <td>32.662388</td>\n",
       "      <td>0.714805</td>\n",
       "      <td>-0.797475</td>\n",
       "      <td>0.939433</td>\n",
       "    </tr>\n",
       "    <tr>\n",
       "      <th>8348</th>\n",
       "      <td>0.116737</td>\n",
       "      <td>40.192456</td>\n",
       "      <td>0.389284</td>\n",
       "      <td>-0.251461</td>\n",
       "      <td>28.289953</td>\n",
       "      <td>0.521304</td>\n",
       "      <td>0.830526</td>\n",
       "      <td>0.703862</td>\n",
       "    </tr>\n",
       "    <tr>\n",
       "      <th>8349</th>\n",
       "      <td>0.108695</td>\n",
       "      <td>33.620765</td>\n",
       "      <td>0.391824</td>\n",
       "      <td>-0.705305</td>\n",
       "      <td>31.970040</td>\n",
       "      <td>0.516908</td>\n",
       "      <td>0.600727</td>\n",
       "      <td>0.950902</td>\n",
       "    </tr>\n",
       "  </tbody>\n",
       "</table>\n",
       "<p>8350 rows × 8 columns</p>\n",
       "</div>"
      ],
      "text/plain": [
       "      redshift     mass_1       a_1  cos_tilt_1     mass_2       a_2  \\\n",
       "0     0.108213  35.225515  0.417147   -0.280624  33.427289  0.867740   \n",
       "1     0.085328  31.898266  0.125709   -0.757349  31.496839  0.260679   \n",
       "2     0.078865  35.124252  0.581047    0.649781  31.487262  0.926893   \n",
       "3     0.082373  33.641806  0.235808    0.116578  32.968738  0.094391   \n",
       "4     0.073895  36.760824  0.511521   -0.438237  29.467517  0.868009   \n",
       "...        ...        ...       ...         ...        ...       ...   \n",
       "8345  0.066089  35.233424  0.484003    0.194507  31.288003  0.627191   \n",
       "8346  0.097492  34.464289  0.589654   -0.737792  33.416243  0.650758   \n",
       "8347  0.094773  34.768191  0.708407    0.852085  32.662388  0.714805   \n",
       "8348  0.116737  40.192456  0.389284   -0.251461  28.289953  0.521304   \n",
       "8349  0.108695  33.620765  0.391824   -0.705305  31.970040  0.516908   \n",
       "\n",
       "      cos_tilt_2  mass_ratio  \n",
       "0       0.403853    0.948951  \n",
       "1      -0.312285    0.987415  \n",
       "2      -0.510843    0.896454  \n",
       "3      -0.720505    0.979993  \n",
       "4       0.269333    0.801601  \n",
       "...          ...         ...  \n",
       "8345   -0.408345    0.888020  \n",
       "8346    0.875384    0.969590  \n",
       "8347   -0.797475    0.939433  \n",
       "8348    0.830526    0.703862  \n",
       "8349    0.600727    0.950902  \n",
       "\n",
       "[8350 rows x 8 columns]"
      ]
     },
     "execution_count": 9,
     "metadata": {},
     "output_type": "execute_result"
    }
   ],
   "source": [
    "posteriors['/home/shanika.galaudage/O3/population/GWTC-1_sample_release/GW150914_GWTC-1.hdf5']"
   ]
  },
  {
   "cell_type": "code",
   "execution_count": 89,
   "metadata": {
    "Collapsed": "false"
   },
   "outputs": [
    {
     "name": "stderr",
     "output_type": "stream",
     "text": [
      "Posteriors:  31%|███       | 27/88 [00:01<00:04, 15.18it/s]"
     ]
    },
    {
     "name": "stdout",
     "output_type": "stream",
     "text": [
      "Skipping GW170729: 'spin_1x'\n",
      "['cos_theta_jn,luminosity_distance,ra,dec,mass_1,mass_2,a_1,a_2,cos_tilt_1,cos_tilt_2,log_likelihood']\n"
     ]
    },
    {
     "name": "stderr",
     "output_type": "stream",
     "text": [
      "Posteriors:  50%|█████     | 44/88 [00:03<00:02, 14.71it/s]"
     ]
    },
    {
     "name": "stdout",
     "output_type": "stream",
     "text": [
      "Skipping GW170814: 'spin_1x'\n",
      "['cos_theta_jn,luminosity_distance,ra,dec,mass_1,mass_2,a_1,a_2,cos_tilt_1,cos_tilt_2,log_likelihood']\n"
     ]
    },
    {
     "name": "stderr",
     "output_type": "stream",
     "text": [
      "Posteriors:  56%|█████▌    | 49/88 [00:03<00:02, 15.72it/s]"
     ]
    },
    {
     "name": "stdout",
     "output_type": "stream",
     "text": [
      "Skipping GW150914: 'spin_1x'\n",
      "['cos_theta_jn,luminosity_distance,ra,dec,mass_1,mass_2,a_1,a_2,cos_tilt_1,cos_tilt_2,log_likelihood']\n"
     ]
    },
    {
     "name": "stderr",
     "output_type": "stream",
     "text": [
      "Posteriors:  58%|█████▊    | 51/88 [00:03<00:02, 15.47it/s]"
     ]
    },
    {
     "name": "stdout",
     "output_type": "stream",
     "text": [
      "Skipping GW151012: 'spin_1x'\n",
      "['cos_theta_jn,luminosity_distance,ra,dec,mass_1,mass_2,a_1,a_2,cos_tilt_1,cos_tilt_2,log_likelihood']\n"
     ]
    },
    {
     "name": "stderr",
     "output_type": "stream",
     "text": [
      "Posteriors:  66%|██████▌   | 58/88 [00:04<00:01, 16.70it/s]"
     ]
    },
    {
     "name": "stdout",
     "output_type": "stream",
     "text": [
      "Skipping GW151226: 'spin_1x'\n",
      "['cos_theta_jn,luminosity_distance,ra,dec,mass_1,mass_2,a_1,a_2,cos_tilt_1,cos_tilt_2,log_likelihood']\n",
      "Skipping GW170104: 'spin_1x'\n",
      "['cos_theta_jn,luminosity_distance,ra,dec,mass_1,mass_2,a_1,a_2,cos_tilt_1,cos_tilt_2,log_likelihood']\n"
     ]
    },
    {
     "name": "stderr",
     "output_type": "stream",
     "text": [
      "Posteriors:  81%|████████  | 71/88 [00:04<00:01, 15.65it/s]"
     ]
    },
    {
     "name": "stdout",
     "output_type": "stream",
     "text": [
      "Skipping GW170823: 'spin_1x'\n",
      "['cos_theta_jn,luminosity_distance,ra,dec,mass_1,mass_2,a_1,a_2,cos_tilt_1,cos_tilt_2,log_likelihood']\n"
     ]
    },
    {
     "name": "stderr",
     "output_type": "stream",
     "text": [
      "Posteriors:  90%|████████▉ | 79/88 [00:05<00:00, 17.98it/s]"
     ]
    },
    {
     "name": "stdout",
     "output_type": "stream",
     "text": [
      "Skipping GW170818: 'spin_1x'\n",
      "['cos_theta_jn,luminosity_distance,ra,dec,mass_1,mass_2,a_1,a_2,cos_tilt_1,cos_tilt_2,log_likelihood']\n",
      "Skipping GW170809: 'spin_1x'\n",
      "['cos_theta_jn,luminosity_distance,ra,dec,mass_1,mass_2,a_1,a_2,cos_tilt_1,cos_tilt_2,log_likelihood']\n"
     ]
    },
    {
     "name": "stderr",
     "output_type": "stream",
     "text": [
      "Posteriors:  95%|█████████▌| 84/88 [00:05<00:00, 17.78it/s]"
     ]
    },
    {
     "name": "stdout",
     "output_type": "stream",
     "text": [
      "Skipping GW170608: 'spin_1x'\n",
      "['cos_theta_jn,luminosity_distance,ra,dec,mass_1,mass_2,a_1,a_2,cos_tilt_1,cos_tilt_2,log_likelihood']\n"
     ]
    },
    {
     "name": "stderr",
     "output_type": "stream",
     "text": [
      "Posteriors: 100%|██████████| 88/88 [00:05<00:00, 14.94it/s]\n"
     ]
    }
   ],
   "source": [
    "import pandas as pd\n",
    "import glob\n",
    "import tqdm\n",
    "import re\n",
    "\n",
    "SAMPLE_SRC = \"/home/avi.vajpeyi/projects/agn_phenomenological_model/data/gwtc_samples/\"\n",
    "PARAM_TO_KEEP = [\"a_1\", \"a_2\", \"cos_tilt_1\", \"cos_tilt_2\", \"mass_ratio\", \"mass_1_source\", \"mass_2_source\", \"redshift\", \"cos_theta_12\", \"chi_p\", \"chi_eff\"]\n",
    "\n",
    "posterior_files = [f for f in glob.glob(SAMPLE_SRC+\"*.csv\") if \"prior\" not in f]\n",
    "prior_files = glob.glob(SAMPLE_SRC + \"*_prior.csv\")\n",
    "\n",
    "reject_events = [\"GW170817\", \"S190425z\", \"S190426c\", \"S190719an\", \"190814\", \"S190909w\", \"S190930ak\"]\n",
    "posts =[]\n",
    "events =[]\n",
    "def get_event_name(fname):\n",
    "    return re.findall(r\"(\\w*\\d{6}[a-z]*)\", fname)[0]\n",
    "\n",
    "def add_agn_samples_to_df(df):\n",
    "    df['s1x'], df['s1y'], df['s1z'] = df['spin_1x'], df['spin_1y'], df['spin_1z']\n",
    "    df['s2x'], df['s2y'], df['s2z'] = df['spin_2x'], df['spin_2y'], df['spin_2z']\n",
    "    df['s1_dot_s2'] = (df['s1x'] * df['s2x']) + (df['s1y'] * df['s2y']) + (\n",
    "            df['s1z'] * df['s2z'])\n",
    "    df['s1_mag'] = np.sqrt(\n",
    "        (df['s1x'] * df['s1x']) + (df['s1y'] * df['s1y']) + (df['s1z'] * df['s1z']))\n",
    "    df['s2_mag'] = np.sqrt(\n",
    "        (df['s2x'] * df['s2x']) + (df['s2y'] * df['s2y']) + (df['s2z'] * df['s2z']))\n",
    "    df['cos_theta_12'] = df['s1_dot_s2'] / (df['s1_mag'] * df['s2_mag'])\n",
    "    return df\n",
    "\n",
    "\n",
    "def read_posteriors(posterior_files):\n",
    "    # posterior_files = [f for f in glob.glob(SAMPLE_SRC+\"*.csv\") if \"prior\" not in f]\n",
    "    posteriors = {}\n",
    "    for f in tqdm.tqdm(posterior_files, desc='Posteriors'):\n",
    "        event = get_event_name(f)\n",
    "        if event not in reject_events:\n",
    "            d = pd.read_csv(f,sep=\" \", index_col=False)\n",
    "            try:\n",
    "                d = add_agn_samples_to_df(d)\n",
    "                posteriors.update({f:d[PARAM_TO_KEEP]})\n",
    "            except Exception as e:\n",
    "                print(f\"Skipping {event}: {e}\\n{d.columns.values.tolist()}\")\n",
    "    return posteriors\n",
    "\n",
    "\n",
    "\n",
    "    \n",
    "posteriors =  read_posteriors(posterior_files)\n",
    "# priors = {f:pd.read_csv(f,sep=\" \", index_col=False) for f in tqdm.tqdm(prior_files, desc=\"Priors\")}\n",
    "\n",
    "\n",
    "agn_samples = \"/home/avi.vajpeyi/projects/agn_phenomenological_model/data/gwtc_agn_samples/\" \n",
    "# os.mkdir(agn_samples)\n",
    "\n",
    "for fname, posterior in posteriors.items():\n",
    "    new_f = os.path.join(agn_samples, os.path.basename(fname))\n",
    "    posterior.to_csv(new_f, index=False, sep=' ')"
   ]
  },
  {
   "cell_type": "code",
   "execution_count": 67,
   "metadata": {
    "Collapsed": "false"
   },
   "outputs": [],
   "source": []
  },
  {
   "cell_type": "code",
   "execution_count": 75,
   "metadata": {
    "Collapsed": "false"
   },
   "outputs": [],
   "source": []
  },
  {
   "cell_type": "code",
   "execution_count": 62,
   "metadata": {
    "Collapsed": "false"
   },
   "outputs": [
    {
     "name": "stdout",
     "output_type": "stream",
     "text": [
      "Making box plot for a_1\n",
      "Making box plot for a_2\n",
      "Making box plot for cos_tilt_1\n",
      "Making box plot for cos_tilt_2\n",
      "Making box plot for mass_ratio\n",
      "Making box plot for mass_1\n",
      "Making box plot for mass_2\n",
      "Making box plot for redshift\n",
      "Making box plot for cos_theta_12\n",
      "Making box plot for chi_p\n",
      "Making box plot for chi_eff\n"
     ]
    }
   ],
   "source": [
    "from copy import deepcopy\n",
    "import matplotlib\n",
    "matplotlib.rcParams[\"text.usetex\"] = False  # noqa\n",
    "import matplotlib.pyplot as plt\n",
    "\n",
    "for filename in posteriors.keys():\n",
    "    event = get_event_name(filename)\n",
    "    if event not in reject_events:\n",
    "        posts.append(posteriors[filename])\n",
    "        events.append(event)\n",
    "\n",
    "        \n",
    "def plot_summary(posteriors: list, events: list):\n",
    "    posteriors = deepcopy(posteriors)\n",
    "    plot_dir = os.path.join(\"outdir/data\")\n",
    "    plot_chi = True\n",
    "    for posterior in posteriors:\n",
    "        if all(\n",
    "            [\n",
    "                key in posterior\n",
    "                for key in [\"a_1\", \"a_2\", \"cos_tilt_1\", \"cos_tilt_2\", \"mass_ratio\"]\n",
    "            ]\n",
    "        ):\n",
    "            posterior[\"chi_eff\"] = (\n",
    "                posterior[\"a_1\"] * posterior[\"cos_tilt_1\"]\n",
    "                + posterior[\"a_2\"] * posterior[\"cos_tilt_2\"] * posterior[\"mass_ratio\"]\n",
    "            ) / (1 + posterior[\"mass_ratio\"])\n",
    "            posterior[\"chi_p\"] = np.maximum(\n",
    "                posterior[\"a_1\"] * (1 - posterior[\"cos_tilt_1\"] ** 2) ** 0.5,\n",
    "                posterior[\"mass_ratio\"]\n",
    "                * (3 + 4 * posterior[\"mass_ratio\"])\n",
    "                / (4 + 3 * posterior[\"mass_ratio\"])\n",
    "                * posterior[\"a_2\"]\n",
    "                * (1 - posterior[\"cos_tilt_2\"] ** 2) ** 0.5,\n",
    "            )\n",
    "        else:\n",
    "            plot_chi = False\n",
    "    plot_mass_2 = True\n",
    "    for posterior in posteriors:\n",
    "        try:\n",
    "            posterior[\"mass_2\"] = posterior[\"mass_1\"] * posterior[\"mass_ratio\"]\n",
    "        except KeyError:\n",
    "            plot_mass_2 = False\n",
    "    print(f\"Plotting params {posteriors[0].keys()}\")\n",
    "    for parameter in posteriors[0].keys():\n",
    "        if parameter in [\"chi_eff\", \"chi_p\"] and not plot_chi:\n",
    "            continue\n",
    "        elif parameter == \"mass_2\" and not plot_mass_2:\n",
    "            continue\n",
    "        print(f\"Making box plot for {parameter}\")\n",
    "        file_name = os.path.join(plot_dir, parameter)\n",
    "        data = [post[parameter] for post in posteriors]\n",
    "        fig = plt.figure(figsize=(len(posteriors), 5))\n",
    "        plt.violinplot(data)\n",
    "        plt.ylabel(parameter.replace(\"_\", \" \"))\n",
    "        plt.xticks(np.arange(1, len(events) + 1), events, rotation=90)\n",
    "        if parameter == \"prior\":\n",
    "            plt.yscale(\"log\")\n",
    "        plt.tight_layout()\n",
    "        plt.savefig(file_name + \".png\")\n",
    "        plt.close(fig)\n",
    "        \n",
    "plot_summary(posts, events)"
   ]
  },
  {
   "cell_type": "code",
   "execution_count": 78,
   "metadata": {
    "Collapsed": "false"
   },
   "outputs": [],
   "source": [
    "\"\"\"Hacky script to grab the \"PublicationSamples\" and priors from the GWTC1+2 cat\n",
    "Note: runtime ~2hrs\n",
    "\"\"\"\n",
    "import glob\n",
    "import os\n",
    "import sys\n",
    "import traceback\n",
    "\n",
    "import numpy as np\n",
    "import pandas as pd\n",
    "import pesummary\n",
    "import tqdm\n",
    "from pesummary.io import read\n",
    "\n",
    "MAX_NUM_SAMPLES = 5000\n",
    "GWTC2_SOURCE = \"/home/zoheyr.doctor/public_html/O3/O3aCatalog/data_release/all_posterior_samples/*.h5\"\n",
    "GWTC1_SOURCE = \"/home/shanika.galaudage/O3/population/GWTC-1_sample_release/*.hdf5\"\n",
    "OUTDIR = \"../data/gwtc_samples\"\n",
    "\n",
    "\n",
    "def safe_run(func):\n",
    "    def func_wrapper(*args, **kwargs):\n",
    "        try:\n",
    "            return func(*args, **kwargs)\n",
    "        except Exception as e:\n",
    "            exc_type, exc_obj, exc_tb = sys.exc_info()\n",
    "            tb = traceback.format_tb(exc_tb)\n",
    "            tb = \"||\".join(tb)\n",
    "            print(\n",
    "                f\"ERROR: {exc_type}\\n\" f\"Traceback: [{tb}]\\n\" f\"Message: {e}\"\n",
    "            )\n",
    "            return None\n",
    "\n",
    "    return func_wrapper\n",
    "\n",
    "\n",
    "@safe_run\n",
    "def process_gwtc2_file(res_file, outdir):\n",
    "    event_name = os.path.basename(res_file).split(\".h\")[0]\n",
    "    samp_fname = f\"{outdir}/{event_name}.csv\"\n",
    "    prior_fname = f\"{outdir}/{event_name}_prior.csv\"\n",
    "    print(f\"Checking fname {samp_fname}\")\n",
    "    if not (os.path.isfile(samp_fname)):\n",
    "        print(f\"Opening {res_file}\")\n",
    "        data = pesummary.io.read(res_file)\n",
    "        if len(data.samples) > MAX_NUM_SAMPLES:\n",
    "            data.downsample(MAX_NUM_SAMPLES)\n",
    "        samples_dict = data.samples_dict\n",
    "        samples = pd.DataFrame(samples_dict['PublicationSamples'])\n",
    "        samples.to_csv(samp_fname, sep=' ', index=False)\n",
    "        priors_array = np.load(res_file.replace(\".h5\", \"_prior.npy\"))\n",
    "        priors = pd.DataFrame(priors_array).sample(MAX_NUM_SAMPLES)\n",
    "        priors.to_csv(prior_fname, sep=' ', index=False)\n",
    "\n",
    "\n",
    "@safe_run\n",
    "def process_gwtc1_file(res_file, outdir):\n",
    "    event_name = os.path.basename(res_file).split(\".h\")[0].split(\"_\")[0]\n",
    "    posterior_filename = f\"{outdir}/{event_name}.csv\"\n",
    "    prior_filename = f\"{outdir}/{event_name}_prior.csv\"\n",
    "    print(f\"Checking fname {posterior_filename}\")\n",
    "    if not (os.path.isfile(posterior_filename)):\n",
    "        print(f\"Opening {res_file}\")\n",
    "        data = pesummary.io.read(res_file)\n",
    "        if len(data.samples) > MAX_NUM_SAMPLES:\n",
    "            data.downsample(MAX_NUM_SAMPLES)\n",
    "        parameters = data.parameters\n",
    "        posterior_samples = data.samples\n",
    "        prior_samples = pd.DataFrame(data.priors['samples']).sample(MAX_NUM_SAMPLES)\n",
    "        prior_samples = prior_samples.to_numpy()\n",
    "        kwargs = dict(parameters=parameters, file_format=\"csv\")\n",
    "        if not os.path.isfile(posterior_filename):\n",
    "            pesummary.io.write(samples=posterior_samples,\n",
    "                               filename=posterior_filename, **kwargs)\n",
    "        if not os.path.isfile(prior_filename):\n",
    "            pesummary.io.write(samples=prior_samples, filename=prior_filename,\n",
    "                               **kwargs)\n",
    "\n",
    "\n",
    "def main():\n",
    "    gwtc1_files = glob.glob(GWTC1_SOURCE)\n",
    "    gwtc2_files = glob.glob(GWTC2_SOURCE)\n",
    "    gwtc2_files = [f for f in gwtc2_files if \"comoving\" not in f]\n",
    "    os.makedirs(OUTDIR, exist_ok=True)\n",
    "    print(\"Processing GWTC1\")\n",
    "    for f in tqdm.tqdm(gwtc1_files):\n",
    "        process_gwtc1_file(f, OUTDIR)\n",
    "    print(\"Processing GWTC2\")\n",
    "    for f in tqdm.tqdm(gwtc2_files):\n",
    "        process_gwtc2_file(f, OUTDIR)\n",
    "\n"
   ]
  },
  {
   "cell_type": "code",
   "execution_count": 81,
   "metadata": {
    "Collapsed": "false"
   },
   "outputs": [
    {
     "name": "stdout",
     "output_type": "stream",
     "text": [
      "Checking fname ../data/test/GW190521.csv\n",
      "Opening /home/zoheyr.doctor/public_html/O3/O3aCatalog/data_release/all_posterior_samples/GW190521.h5\n"
     ]
    }
   ],
   "source": [
    "OUTDIR = \"../data/test\"\n",
    "os.makedirs(OUTDIR, exist_ok=True)\n",
    "process_gwtc2_file('/home/zoheyr.doctor/public_html/O3/O3aCatalog/data_release/all_posterior_samples/GW190521.h5',OUTDIR)"
   ]
  },
  {
   "cell_type": "code",
   "execution_count": 86,
   "metadata": {
    "Collapsed": "false"
   },
   "outputs": [
    {
     "data": {
      "text/plain": [
       "array(['log_likelihood', 'chi_eff', 'total_mass_source',\n",
       "       'chi_p', 'spin_1y', 'final_mass', 'phi_2', 'phi_12',\n",
       "       'ra', 'phi_jl', 'tilt_2', 'cos_theta_jn', 'a_2',\n",
       "       'peak_luminosity', 'mass_1', 'mass_ratio', 'cos_tilt_1',\n",
       "       'a_1', 'final_mass_source', 'phase',\n",
       "       'inverted_mass_ratio', 'radiated_energy', 'mass_2',\n",
       "       'mass_2_source', 'dec', 'psi', 'total_mass', 'theta_jn',\n",
       "       'redshift', 'iota', 'spin_1x', 'chirp_mass', 'cos_iota',\n",
       "       'comoving_distance', 'spin_2y', 'tilt_1', 'spin_2z',\n",
       "       'mass_1_source', 'geocent_time', 'cos_tilt_2',\n",
       "       'final_spin', 'luminosity_distance', 'spin_1z',\n",
       "       'chirp_mass_source', 'phi_1', 'symmetric_mass_ratio',\n",
       "       'spin_2x'], dtype=object)"
      ]
     },
     "execution_count": 86,
     "metadata": {},
     "output_type": "execute_result"
    }
   ],
   "source": [
    "df = pd.read_csv(\"~/projects/agn_phenomenological_model/data/test/GW190521.csv\", sep=' ')\n",
    "df.columns.values"
   ]
  },
  {
   "cell_type": "code",
   "execution_count": 88,
   "metadata": {
    "Collapsed": "false"
   },
   "outputs": [
    {
     "data": {
      "text/plain": [
       "count    59466.000000\n",
       "mean        93.702182\n",
       "std         17.534144\n",
       "min         60.378589\n",
       "25%         82.796044\n",
       "50%         91.003491\n",
       "75%        100.600575\n",
       "max        300.083940\n",
       "Name: mass_1_source, dtype: float64"
      ]
     },
     "execution_count": 88,
     "metadata": {},
     "output_type": "execute_result"
    }
   ],
   "source": [
    "df['mass_1_source'].describe()"
   ]
  },
  {
   "cell_type": "code",
   "execution_count": null,
   "metadata": {
    "Collapsed": "false"
   },
   "outputs": [],
   "source": []
  }
 ],
 "metadata": {
  "kernelspec": {
   "display_name": "gwpop",
   "language": "python",
   "name": "gwpop"
  },
  "language_info": {
   "codemirror_mode": {
    "name": "ipython",
    "version": 3
   },
   "file_extension": ".py",
   "mimetype": "text/x-python",
   "name": "python",
   "nbconvert_exporter": "python",
   "pygments_lexer": "ipython3",
   "version": "3.6.10"
  }
 },
 "nbformat": 4,
 "nbformat_minor": 4
}
